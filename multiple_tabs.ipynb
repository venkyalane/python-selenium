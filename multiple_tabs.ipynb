{
 "cells": [
  {
   "cell_type": "code",
   "execution_count": 1,
   "id": "5685de63-8d4a-40fd-a979-2dfe28ed87bb",
   "metadata": {},
   "outputs": [],
   "source": [
    "# Multiple tabs\n",
    "from selenium import webdriver\n",
    "from selenium.webdriver.common.by import By"
   ]
  },
  {
   "cell_type": "code",
   "execution_count": 2,
   "id": "657a6c97-644d-4357-ace0-aff541e2d385",
   "metadata": {},
   "outputs": [],
   "source": [
    "driver = webdriver.Chrome()"
   ]
  },
  {
   "cell_type": "code",
   "execution_count": 3,
   "id": "b9c92d01-51ec-48da-9437-438311b6f24c",
   "metadata": {},
   "outputs": [],
   "source": [
    "driver.get(\"https://www.rahulshettyacademy.com/AutomationPractice/\")"
   ]
  },
  {
   "cell_type": "code",
   "execution_count": 4,
   "id": "0cff8c96-fc21-425a-815d-c997b248d095",
   "metadata": {},
   "outputs": [
    {
     "name": "stdout",
     "output_type": "stream",
     "text": [
      "This is a first tab:  FE05A399B832D758291BF7D45805B86C\n",
      "This is a second tab:  C36A31274F138242E9451A63DF32417D\n",
      "Total tabs:  2\n",
      "current tab:  FE05A399B832D758291BF7D45805B86C\n"
     ]
    }
   ],
   "source": [
    "driver.find_element(By.XPATH, \"//a[@id='opentab']\").click()\n",
    "tabs = driver.window_handles\n",
    "print(\"This is a first tab: \",tabs[0])\n",
    "print(\"This is a second tab: \",tabs[1])\n",
    "print(\"Total tabs: \",len(tabs))\n",
    "print(\"current tab: \",driver.current_window_handle)"
   ]
  },
  {
   "cell_type": "code",
   "execution_count": 5,
   "id": "ccb05999-9c06-4f4e-ae9f-4eca9a89871b",
   "metadata": {},
   "outputs": [
    {
     "name": "stdout",
     "output_type": "stream",
     "text": [
      "current tab:  C36A31274F138242E9451A63DF32417D\n"
     ]
    }
   ],
   "source": [
    "driver.switch_to.window(tabs[1])\n",
    "print(\"current tab: \", driver.current_window_handle)"
   ]
  }
 ],
 "metadata": {
  "kernelspec": {
   "display_name": "Python 3 (ipykernel)",
   "language": "python",
   "name": "python3"
  },
  "language_info": {
   "codemirror_mode": {
    "name": "ipython",
    "version": 3
   },
   "file_extension": ".py",
   "mimetype": "text/x-python",
   "name": "python",
   "nbconvert_exporter": "python",
   "pygments_lexer": "ipython3",
   "version": "3.11.2"
  }
 },
 "nbformat": 4,
 "nbformat_minor": 5
}
