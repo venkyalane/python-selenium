{
 "cells": [
  {
   "cell_type": "code",
   "execution_count": 1,
   "id": "207dc935-bd26-43db-a44a-951dec743d92",
   "metadata": {},
   "outputs": [],
   "source": [
    "# explicit wait\n",
    "import time\n",
    "from selenium import webdriver\n",
    "from selenium.webdriver.common.by import By\n",
    "from selenium.webdriver.support import expected_conditions\n",
    "from selenium.webdriver.support.wait import WebDriverWait"
   ]
  },
  {
   "cell_type": "code",
   "execution_count": 2,
   "id": "10bc0912-c3eb-4a75-bce5-d05004152ce7",
   "metadata": {},
   "outputs": [],
   "source": [
    "driver = webdriver.Chrome()"
   ]
  },
  {
   "cell_type": "code",
   "execution_count": 3,
   "id": "05f6007a-5a71-4a45-9a46-b2872f4e7a76",
   "metadata": {},
   "outputs": [],
   "source": [
    "driver.get(\"https://chercher.tech/practice/implicit-wait-example\")\n",
    "WebDriverWait(driver,10).until(expected_conditions.element_to_be_clickable((By.XPATH, \"//div[@id='q']/input[1]\")))\n",
    "driver.find_element(By.XPATH, \"//div[@id='q']/input[1]\").click()\n",
    "time.sleep(10)\n",
    "driver.close()"
   ]
  },
  {
   "cell_type": "code",
   "execution_count": 4,
   "id": "e8be6552-51ac-44a0-be28-86d96d7d0a83",
   "metadata": {},
   "outputs": [],
   "source": [
    "driver = webdriver.Chrome()"
   ]
  },
  {
   "cell_type": "code",
   "execution_count": 5,
   "id": "397e609c-86b1-4e73-82df-eae3295fedc5",
   "metadata": {},
   "outputs": [
    {
     "name": "stdout",
     "output_type": "stream",
     "text": [
      "Selenium Webdriver\n"
     ]
    }
   ],
   "source": [
    "driver.get(\"https://chercher.tech/practice/explicit-wait-sample-selenium-webdriver\")\n",
    "driver.find_element(By.XPATH, \"//button[@id='populate-text']\").click()\n",
    "WebDriverWait(driver,15).until(expected_conditions.text_to_be_present_in_element((By.XPATH, \"//h2[@id='h2']\"), \"Selenium Webdriver\"))\n",
    "print(driver.find_element(By.XPATH, \"//h2[@id='h2']\").text)\n",
    "time.sleep(10)\n",
    "driver.close()"
   ]
  },
  {
   "cell_type": "code",
   "execution_count": null,
   "id": "3636c031-2d0d-485f-81f8-9cdc213a1812",
   "metadata": {},
   "outputs": [],
   "source": []
  }
 ],
 "metadata": {
  "kernelspec": {
   "display_name": "Python 3 (ipykernel)",
   "language": "python",
   "name": "python3"
  },
  "language_info": {
   "codemirror_mode": {
    "name": "ipython",
    "version": 3
   },
   "file_extension": ".py",
   "mimetype": "text/x-python",
   "name": "python",
   "nbconvert_exporter": "python",
   "pygments_lexer": "ipython3",
   "version": "3.11.2"
  }
 },
 "nbformat": 4,
 "nbformat_minor": 5
}
