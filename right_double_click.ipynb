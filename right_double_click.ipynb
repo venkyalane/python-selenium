{
 "cells": [
  {
   "cell_type": "code",
   "execution_count": 1,
   "id": "fa501612-e467-4478-87ad-cf44336c1e56",
   "metadata": {},
   "outputs": [],
   "source": [
    "# right click and double click action\n",
    "import time\n",
    "from selenium import webdriver\n",
    "from selenium.webdriver.common.by import By\n",
    "from selenium.webdriver.common.action_chains import ActionChains"
   ]
  },
  {
   "cell_type": "code",
   "execution_count": 8,
   "id": "be70b1d5-cc29-4f05-a816-8641a7f33f12",
   "metadata": {},
   "outputs": [],
   "source": [
    "driver = webdriver.Chrome()\n",
    "action = ActionChains(driver)"
   ]
  },
  {
   "cell_type": "code",
   "execution_count": 9,
   "id": "ba96fb1a-1ae3-465d-81a4-77ab113ae875",
   "metadata": {},
   "outputs": [],
   "source": [
    "driver.get(\"https://the-internet.herokuapp.com/context_menu\")"
   ]
  },
  {
   "cell_type": "code",
   "execution_count": 6,
   "id": "7c187bf2-4790-4d6a-85f2-f9010a239d9c",
   "metadata": {},
   "outputs": [],
   "source": [
    "driver.implicitly_wait(100)\n",
    "action.context_click(driver.find_element(By.XPATH, \"//div[@id='hot-spot']\")).perform()    #context_click() means right click\n",
    "time.sleep(5)\n",
    "driver.switch_to.alert.accept()                      # Handle pop-up alert"
   ]
  },
  {
   "cell_type": "code",
   "execution_count": 10,
   "id": "2055ed62-4f77-4784-a446-ab1f1531efb3",
   "metadata": {},
   "outputs": [],
   "source": [
    "action.double_click(driver.find_element(By.XPATH, \"//div[@id='hot-spot']\")).perform()    #double_click()"
   ]
  },
  {
   "cell_type": "code",
   "execution_count": 11,
   "id": "8f6e7ba3-0486-436b-8a23-6b9f672dbd94",
   "metadata": {},
   "outputs": [],
   "source": [
    "driver.close()"
   ]
  }
 ],
 "metadata": {
  "kernelspec": {
   "display_name": "Python 3 (ipykernel)",
   "language": "python",
   "name": "python3"
  },
  "language_info": {
   "codemirror_mode": {
    "name": "ipython",
    "version": 3
   },
   "file_extension": ".py",
   "mimetype": "text/x-python",
   "name": "python",
   "nbconvert_exporter": "python",
   "pygments_lexer": "ipython3",
   "version": "3.11.2"
  }
 },
 "nbformat": 4,
 "nbformat_minor": 5
}
