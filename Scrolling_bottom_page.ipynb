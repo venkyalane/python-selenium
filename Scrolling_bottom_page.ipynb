{
 "cells": [
  {
   "cell_type": "code",
   "execution_count": 1,
   "id": "c8081e11-7dcc-4395-a20e-5ddda3a4fa7b",
   "metadata": {},
   "outputs": [],
   "source": [
    "# Scrolling up to bottom of page\n",
    "import time\n",
    "from selenium import webdriver\n",
    "from selenium.webdriver.common.by import By"
   ]
  },
  {
   "cell_type": "code",
   "execution_count": 2,
   "id": "940cc9c8-6e01-48aa-8ee7-9a11d59d39d6",
   "metadata": {},
   "outputs": [],
   "source": [
    "driver = webdriver.Chrome()"
   ]
  },
  {
   "cell_type": "code",
   "execution_count": 3,
   "id": "5447fc5b-dd77-4262-991d-b0182dadbdef",
   "metadata": {},
   "outputs": [],
   "source": [
    "driver.get(\"https://www.rahulshettyacademy.com/AutomationPractice/\")\n",
    "driver.execute_script(\"window.scrollTo(0, document.body.scrollHeight)\")\n",
    "time.sleep(5)"
   ]
  },
  {
   "cell_type": "code",
   "execution_count": 4,
   "id": "75ca220d-e003-47e3-8bde-408a823cb5d2",
   "metadata": {},
   "outputs": [],
   "source": [
    "driver.close()"
   ]
  }
 ],
 "metadata": {
  "kernelspec": {
   "display_name": "Python 3 (ipykernel)",
   "language": "python",
   "name": "python3"
  },
  "language_info": {
   "codemirror_mode": {
    "name": "ipython",
    "version": 3
   },
   "file_extension": ".py",
   "mimetype": "text/x-python",
   "name": "python",
   "nbconvert_exporter": "python",
   "pygments_lexer": "ipython3",
   "version": "3.11.2"
  }
 },
 "nbformat": 4,
 "nbformat_minor": 5
}
