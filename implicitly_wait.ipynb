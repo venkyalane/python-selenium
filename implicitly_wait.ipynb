{
 "cells": [
  {
   "cell_type": "code",
   "execution_count": 1,
   "id": "b7dddd9a-7ce7-4bfd-b869-2652a102cda7",
   "metadata": {},
   "outputs": [],
   "source": [
    "# Implicitly_wait()\n",
    "from selenium import webdriver\n",
    "from selenium.webdriver.common.by import By"
   ]
  },
  {
   "cell_type": "code",
   "execution_count": 2,
   "id": "204be957-6db3-4bc2-bf27-2f56e55b2864",
   "metadata": {},
   "outputs": [],
   "source": [
    "driver = webdriver.Chrome()"
   ]
  },
  {
   "cell_type": "code",
   "execution_count": 3,
   "id": "aa80f425-f124-4665-af8e-55519137082b",
   "metadata": {},
   "outputs": [],
   "source": [
    "driver.get(\"https://chercher.tech/practice/implicit-wait-example\")"
   ]
  },
  {
   "cell_type": "code",
   "execution_count": 4,
   "id": "0b7dae27-0b33-4237-8226-08d91f25251c",
   "metadata": {},
   "outputs": [],
   "source": [
    "driver.implicitly_wait(100)\n",
    "driver.find_element(By.XPATH, \"//div[@id='q']/input[1]\").click()\n",
    "driver.find_element(By.XPATH, \"//div[@id='q']/input[3]\").click()\n",
    "driver.find_element(By.XPATH, \"//div[@id='q']/input[7]\").click()"
   ]
  },
  {
   "cell_type": "code",
   "execution_count": 5,
   "id": "74a39866-a8bc-49c3-bfb4-cddaf78a27e9",
   "metadata": {},
   "outputs": [],
   "source": [
    "driver.close()"
   ]
  }
 ],
 "metadata": {
  "kernelspec": {
   "display_name": "Python 3 (ipykernel)",
   "language": "python",
   "name": "python3"
  },
  "language_info": {
   "codemirror_mode": {
    "name": "ipython",
    "version": 3
   },
   "file_extension": ".py",
   "mimetype": "text/x-python",
   "name": "python",
   "nbconvert_exporter": "python",
   "pygments_lexer": "ipython3",
   "version": "3.11.2"
  }
 },
 "nbformat": 4,
 "nbformat_minor": 5
}
