{
 "cells": [
  {
   "cell_type": "code",
   "execution_count": 1,
   "id": "f7f5fd79-dd9a-4103-811d-7ed7bb654067",
   "metadata": {},
   "outputs": [],
   "source": [
    "# Mouse hover action functionality\n",
    "import unittest\n",
    "import time\n",
    "from selenium import webdriver\n",
    "from selenium.webdriver.common.by import By\n",
    "from selenium.webdriver.common.action_chains import ActionChains"
   ]
  },
  {
   "cell_type": "code",
   "execution_count": 2,
   "id": "1763e00a-5caa-43fc-888d-22fe606cea70",
   "metadata": {},
   "outputs": [],
   "source": [
    "driver = webdriver.Chrome()\n",
    "action = ActionChains(driver)"
   ]
  },
  {
   "cell_type": "code",
   "execution_count": 3,
   "id": "9da712b1-454f-4952-8559-81151f7ca5a2",
   "metadata": {},
   "outputs": [],
   "source": [
    "driver.get(\"https://www.rahulshettyacademy.com/AutomationPractice/\")\n",
    "driver.execute_script(\"window.scrollTo(0, 1300)\")\n",
    "time.sleep(5)"
   ]
  },
  {
   "cell_type": "code",
   "execution_count": 4,
   "id": "1d93a249-439a-4f29-8451-bc37c8d4e151",
   "metadata": {},
   "outputs": [],
   "source": [
    "menu = driver.find_element(By.XPATH, \"//button[@id='mousehover']\")\n",
    "hidden_submenu = driver.find_element(By.XPATH, \"//a[contains(text(),'Top')]\")"
   ]
  },
  {
   "cell_type": "code",
   "execution_count": 5,
   "id": "bb4fd5fa-ccd0-4f4f-a78f-29a6c4fe4299",
   "metadata": {},
   "outputs": [],
   "source": [
    "action.move_to_element(menu).perform()\n",
    "time.sleep(5)\n",
    "action.click(hidden_submenu).perform()\n",
    "time.sleep(5)"
   ]
  },
  {
   "cell_type": "code",
   "execution_count": 6,
   "id": "5da6d10f-a7ad-418b-ab9b-5373ed458cc6",
   "metadata": {},
   "outputs": [],
   "source": [
    "driver.close()"
   ]
  }
 ],
 "metadata": {
  "kernelspec": {
   "display_name": "Python 3 (ipykernel)",
   "language": "python",
   "name": "python3"
  },
  "language_info": {
   "codemirror_mode": {
    "name": "ipython",
    "version": 3
   },
   "file_extension": ".py",
   "mimetype": "text/x-python",
   "name": "python",
   "nbconvert_exporter": "python",
   "pygments_lexer": "ipython3",
   "version": "3.11.2"
  }
 },
 "nbformat": 4,
 "nbformat_minor": 5
}
