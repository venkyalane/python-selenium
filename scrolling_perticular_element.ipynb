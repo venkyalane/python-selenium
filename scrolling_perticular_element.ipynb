{
 "cells": [
  {
   "cell_type": "code",
   "execution_count": 1,
   "id": "f2aac55f-2dbd-4055-825b-16fdf31b5c7d",
   "metadata": {},
   "outputs": [],
   "source": [
    "# Scrolling up to perticular element\n",
    "import time\n",
    "from selenium import webdriver\n",
    "from selenium.webdriver.common.by import By"
   ]
  },
  {
   "cell_type": "code",
   "execution_count": 2,
   "id": "37fb901c-61e4-4c3c-9942-90abea1e7aa9",
   "metadata": {},
   "outputs": [],
   "source": [
    "driver = webdriver.Chrome()"
   ]
  },
  {
   "cell_type": "code",
   "execution_count": 3,
   "id": "e3de29bb-c78f-46ea-b7cb-5805606999d5",
   "metadata": {},
   "outputs": [],
   "source": [
    "driver.get(\"https://www.rahulshettyacademy.com/AutomationPractice/\")"
   ]
  },
  {
   "cell_type": "code",
   "execution_count": 5,
   "id": "005478d3-f18a-432b-9d36-eef4e48239be",
   "metadata": {},
   "outputs": [],
   "source": [
    "element = driver.find_element(By.XPATH, \"//button[@id='mousehover']\")\n",
    "driver.execute_script(\"arguments[0].scrollIntoView()\", element)\n",
    "time.sleep(5)"
   ]
  },
  {
   "cell_type": "code",
   "execution_count": 6,
   "id": "2356655a-12eb-4c78-bdfb-612188cf55d3",
   "metadata": {},
   "outputs": [],
   "source": [
    "driver.close()"
   ]
  }
 ],
 "metadata": {
  "kernelspec": {
   "display_name": "Python 3 (ipykernel)",
   "language": "python",
   "name": "python3"
  },
  "language_info": {
   "codemirror_mode": {
    "name": "ipython",
    "version": 3
   },
   "file_extension": ".py",
   "mimetype": "text/x-python",
   "name": "python",
   "nbconvert_exporter": "python",
   "pygments_lexer": "ipython3",
   "version": "3.11.2"
  }
 },
 "nbformat": 4,
 "nbformat_minor": 5
}
