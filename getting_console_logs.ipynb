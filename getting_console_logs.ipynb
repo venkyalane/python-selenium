{
 "cells": [
  {
   "cell_type": "code",
   "execution_count": 1,
   "id": "ead8efd5-c189-48a2-b881-67e433491479",
   "metadata": {},
   "outputs": [],
   "source": [
    "#Getting console logs outputs\n",
    "import time\n",
    "from selenium import webdriver\n",
    "from selenium.webdriver.common.desired_capabilities import DesiredCapabilities"
   ]
  },
  {
   "cell_type": "code",
   "execution_count": 2,
   "id": "b13bdc2d-5c02-43a8-a5ed-4fe1326d69a4",
   "metadata": {},
   "outputs": [],
   "source": [
    "dc = DesiredCapabilities.CHROME\n",
    "dc['goog:loggingPrefs'] = { 'browser':'ALL' }"
   ]
  },
  {
   "cell_type": "code",
   "execution_count": 3,
   "id": "b814923e-2c43-4636-b059-ffb3223e844f",
   "metadata": {},
   "outputs": [],
   "source": [
    "driver = webdriver.Chrome(desired_capabilities = dc)"
   ]
  },
  {
   "cell_type": "code",
   "execution_count": 4,
   "id": "cec68669-c640-43c9-8f72-9314d70aa500",
   "metadata": {},
   "outputs": [],
   "source": [
    "driver.get(\"https://www.tutorialspoint.com/how-to-stop-a-page-loading-from-selenium-in-chrome\")\n",
    "time.sleep(5)"
   ]
  },
  {
   "cell_type": "code",
   "execution_count": 5,
   "id": "3bf2728f-7ecb-4d41-a9e1-fe041a9c4c6a",
   "metadata": {},
   "outputs": [],
   "source": [
    "driver.execute_script(\"window.stop();\")"
   ]
  },
  {
   "cell_type": "code",
   "execution_count": 6,
   "id": "417e56e6-b907-4f14-914d-8cb5c9cfaa04",
   "metadata": {},
   "outputs": [
    {
     "name": "stdout",
     "output_type": "stream",
     "text": [
      "[{'level': 'WARNING', 'message': 'https://cdn.mathjax.org/mathjax/latest/MathJax.js?config=TeX-AMS-MML_HTMLorMML 31:12 \"WARNING: cdn.mathjax.org has been retired. Check https://www.mathjax.org/cdn-shutting-down/ for migration tips.\"', 'source': 'console-api', 'timestamp': 1691236279211}, {'level': 'SEVERE', 'message': 'https://pbs.nextmillmedia.com/openrtb2/auction - Failed to load resource: the server responded with a status of 400 ()', 'source': 'network', 'timestamp': 1691236282484}, {'level': 'SEVERE', 'message': 'https://pbs.nextmillmedia.com/openrtb2/auction - Failed to load resource: the server responded with a status of 400 ()', 'source': 'network', 'timestamp': 1691236282485}, {'level': 'SEVERE', 'message': 'https://pbs.nextmillmedia.com/openrtb2/auction - Failed to load resource: the server responded with a status of 400 ()', 'source': 'network', 'timestamp': 1691236282485}, {'level': 'WARNING', 'message': 'https://securepubads.g.doubleclick.net/pagead/managed/js/gpt/m202308010101/pubads_impl.js 9:268879 \"[GPT] Using deprecated googletag.encryptedSignalProviders. Please use googletag.secureSignalProviders instead.\"', 'source': 'console-api', 'timestamp': 1691236283249}, {'level': 'WARNING', 'message': 'https://securepubads.g.doubleclick.net/pagead/managed/js/gpt/m202308010101/pubads_impl.js 9:268879 \"[GPT] Using deprecated googletag.encryptedSignalProviders. Please use googletag.secureSignalProviders instead.\"', 'source': 'console-api', 'timestamp': 1691236283250}, {'level': 'WARNING', 'message': 'https://securepubads.g.doubleclick.net/pagead/managed/js/gpt/m202308010101/pubads_impl.js 9:268879 \"[GPT] Using deprecated googletag.encryptedSignalProviders. Please use googletag.secureSignalProviders instead.\"', 'source': 'console-api', 'timestamp': 1691236283481}, {'level': 'WARNING', 'message': 'https://securepubads.g.doubleclick.net/pagead/managed/js/gpt/m202308010101/pubads_impl.js 9:268879 \"[GPT] Using deprecated googletag.encryptedSignalProviders. Please use googletag.secureSignalProviders instead.\"', 'source': 'console-api', 'timestamp': 1691236283481}, {'level': 'SEVERE', 'message': 'https://cdn-ima.33across.com/ob.js 1:40874 \"33Across Lexicon ID Mappings Provider: PID not found\"', 'source': 'console-api', 'timestamp': 1691236283575}, {'level': 'WARNING', 'message': 'https://securepubads.g.doubleclick.net/pagead/managed/js/gpt/m202308010101/pubads_impl.js 9:268879 \"[GPT] Using deprecated googletag.encryptedSignalProviders. Please use googletag.secureSignalProviders instead.\"', 'source': 'console-api', 'timestamp': 1691236283705}, {'level': 'INFO', 'message': 'https://cdn.ampproject.org/rtv/012307180709000/amp4ads-v0.mjs 1:226656 \"Powered by AMP ⚡ HTML – Version 2307180709000\" \"https://www.tutorialspoint.com/how-to-stop-a-page-loading-from-selenium-in-chrome\"', 'source': 'console-api', 'timestamp': 1691236285014}, {'level': 'SEVERE', 'message': 'https://gum.criteo.com/sid/json?origin=prebid&topUrl=https%3A%2F%2Fwww.tutorialspoint.com%2F&domain=www.tutorialspoint.com&cw=1&pbt=1&lsw=1 - Failed to load resource: net::ERR_CONNECTION_RESET', 'source': 'network', 'timestamp': 1691236286860}, {'level': 'SEVERE', 'message': 'https://gum.criteo.com/sid/json?origin=prebid&topUrl=https%3A%2F%2Fwww.tutorialspoint.com%2F&domain=www.tutorialspoint.com&cw=1&pbt=1&lsw=1 - Failed to load resource: net::ERR_CONNECTION_RESET', 'source': 'network', 'timestamp': 1691236292541}, {'level': 'SEVERE', 'message': 'https://pbs.nextmillmedia.com/openrtb2/auction - Failed to load resource: the server responded with a status of 400 ()', 'source': 'network', 'timestamp': 1691236313084}]\n"
     ]
    }
   ],
   "source": [
    "get_logs = driver.get_log('browser')\n",
    "print(get_logs)"
   ]
  },
  {
   "cell_type": "code",
   "execution_count": 7,
   "id": "1be9a792-ad6c-475b-acf1-39809e951618",
   "metadata": {},
   "outputs": [],
   "source": [
    "driver.close()"
   ]
  },
  {
   "cell_type": "code",
   "execution_count": null,
   "id": "918f9d61-9965-4367-8a85-f46d2f8885cd",
   "metadata": {},
   "outputs": [],
   "source": []
  }
 ],
 "metadata": {
  "kernelspec": {
   "display_name": "Python 3 (ipykernel)",
   "language": "python",
   "name": "python3"
  },
  "language_info": {
   "codemirror_mode": {
    "name": "ipython",
    "version": 3
   },
   "file_extension": ".py",
   "mimetype": "text/x-python",
   "name": "python",
   "nbconvert_exporter": "python",
   "pygments_lexer": "ipython3",
   "version": "3.11.2"
  }
 },
 "nbformat": 4,
 "nbformat_minor": 5
}
