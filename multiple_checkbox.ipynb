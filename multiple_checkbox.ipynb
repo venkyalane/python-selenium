{
 "cells": [
  {
   "cell_type": "code",
   "execution_count": 1,
   "id": "6eefa78d-c7a0-42b0-b8b9-5aecdc652c9c",
   "metadata": {},
   "outputs": [],
   "source": [
    "from selenium import webdriver\n",
    "from selenium.webdriver.common.by import By"
   ]
  },
  {
   "cell_type": "code",
   "execution_count": 2,
   "id": "4a83714a-aac3-49b7-b2de-3c6dc73c2129",
   "metadata": {},
   "outputs": [],
   "source": [
    "driver = webdriver.Chrome()"
   ]
  },
  {
   "cell_type": "code",
   "execution_count": 3,
   "id": "17c2d542-c60f-4822-8752-4d1fbe363abd",
   "metadata": {},
   "outputs": [],
   "source": [
    "driver.get(\"https://www.rahulshettyacademy.com/AutomationPractice/\")"
   ]
  },
  {
   "cell_type": "code",
   "execution_count": 4,
   "id": "a1cfb07e-c4c7-40b7-81e7-c8ac67771b5b",
   "metadata": {},
   "outputs": [],
   "source": [
    "checks = driver.find_elements(By.XPATH, '//input[@type=\"checkbox\"]')\n",
    "for check in checks:\n",
    "    if check == checks[1]:\n",
    "        pass\n",
    "    else:\n",
    "        check.click()"
   ]
  }
 ],
 "metadata": {
  "kernelspec": {
   "display_name": "Python 3 (ipykernel)",
   "language": "python",
   "name": "python3"
  },
  "language_info": {
   "codemirror_mode": {
    "name": "ipython",
    "version": 3
   },
   "file_extension": ".py",
   "mimetype": "text/x-python",
   "name": "python",
   "nbconvert_exporter": "python",
   "pygments_lexer": "ipython3",
   "version": "3.11.2"
  }
 },
 "nbformat": 4,
 "nbformat_minor": 5
}
