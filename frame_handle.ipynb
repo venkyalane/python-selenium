{
 "cells": [
  {
   "cell_type": "code",
   "execution_count": 1,
   "id": "dd07e1d0-7892-45c2-a930-d7cc830d79f9",
   "metadata": {},
   "outputs": [],
   "source": [
    "# Switch to frame / Handle frame\n",
    "import time\n",
    "from selenium import webdriver\n",
    "from selenium.webdriver.common.by import By"
   ]
  },
  {
   "cell_type": "code",
   "execution_count": 2,
   "id": "94f2da65-0351-4ac7-ba06-e70145569355",
   "metadata": {},
   "outputs": [],
   "source": [
    "driver=webdriver.Chrome()"
   ]
  },
  {
   "cell_type": "code",
   "execution_count": 3,
   "id": "d3680804-f32f-4dfd-8716-a6ee6321dc0b",
   "metadata": {},
   "outputs": [],
   "source": [
    "driver.get('https://www.rahulshettyacademy.com/AutomationPractice/')"
   ]
  },
  {
   "cell_type": "code",
   "execution_count": 4,
   "id": "c440b7d3-1d7a-4eb3-9358-9479230eb1a1",
   "metadata": {},
   "outputs": [],
   "source": [
    "# scroll upto frame\n",
    "driver.execute_script(\"window.scrollTo(0, 1400)\")"
   ]
  },
  {
   "cell_type": "code",
   "execution_count": 5,
   "id": "a8c855de-1d0c-46da-8c0a-9da67d008982",
   "metadata": {},
   "outputs": [],
   "source": [
    "frame = driver.find_element(By.XPATH, \"//iframe[@id='courses-iframe']\")"
   ]
  },
  {
   "cell_type": "code",
   "execution_count": 6,
   "id": "748dcc5c-e3e2-41ce-8d9a-529a5fb1c382",
   "metadata": {},
   "outputs": [],
   "source": [
    "#driver switching in frame and doing something operations\n",
    "driver.switch_to.frame(frame)\n",
    "driver.find_element(By.XPATH, \"//header/div[3]/div[1]/div[1]/div[2]/nav[1]/div[2]/ul[1]/li[6]/a[1]\").click()\n",
    "time.sleep(10)"
   ]
  },
  {
   "cell_type": "code",
   "execution_count": 7,
   "id": "3e1c17dd-b295-4782-9ec4-305966a11296",
   "metadata": {},
   "outputs": [],
   "source": [
    " #driver switching in default contet and doing somwthing operations\n",
    "driver.switch_to.default_content()"
   ]
  },
  {
   "cell_type": "code",
   "execution_count": 8,
   "id": "83cc42f8-bec1-400d-ac67-6b963f63c247",
   "metadata": {},
   "outputs": [],
   "source": [
    "# scrolling top \n",
    "driver.execute_script(\"window.scrollTo(0, 0)\")\n",
    "driver.find_element(By.XPATH, \"//input[@id='checkBoxOption1']\").click()"
   ]
  },
  {
   "cell_type": "code",
   "execution_count": 9,
   "id": "ad43c86f-9e20-4b4c-85bd-f7fc320757e1",
   "metadata": {},
   "outputs": [],
   "source": [
    "driver.close()"
   ]
  }
 ],
 "metadata": {
  "kernelspec": {
   "display_name": "Python 3 (ipykernel)",
   "language": "python",
   "name": "python3"
  },
  "language_info": {
   "codemirror_mode": {
    "name": "ipython",
    "version": 3
   },
   "file_extension": ".py",
   "mimetype": "text/x-python",
   "name": "python",
   "nbconvert_exporter": "python",
   "pygments_lexer": "ipython3",
   "version": "3.11.2"
  }
 },
 "nbformat": 4,
 "nbformat_minor": 5
}
