{
 "cells": [
  {
   "cell_type": "code",
   "execution_count": 1,
   "id": "73b53f43-a0d8-42e2-b928-add1df8bfa6f",
   "metadata": {},
   "outputs": [],
   "source": [
    "# Multiple windows\n",
    "from selenium import webdriver\n",
    "from selenium.webdriver.common.by import By"
   ]
  },
  {
   "cell_type": "code",
   "execution_count": 2,
   "id": "2575ffb5-41d3-49e8-9413-deb2650fde2a",
   "metadata": {},
   "outputs": [],
   "source": [
    "driver=webdriver.Chrome()"
   ]
  },
  {
   "cell_type": "code",
   "execution_count": 3,
   "id": "a7756bcc-508e-4bb5-b64a-91a2e411098a",
   "metadata": {},
   "outputs": [],
   "source": [
    "driver.get(\"https://www.rahulshettyacademy.com/AutomationPractice/\")"
   ]
  },
  {
   "cell_type": "code",
   "execution_count": 4,
   "id": "916933fc-2f99-4e1f-b655-b5ec11ee7db8",
   "metadata": {},
   "outputs": [],
   "source": [
    "driver.find_element(By.XPATH, \"//button[@id='openwindow']\").click()"
   ]
  },
  {
   "cell_type": "code",
   "execution_count": 5,
   "id": "1a18dc4e-976c-4ba9-b40f-6eee5ea74599",
   "metadata": {},
   "outputs": [
    {
     "name": "stdout",
     "output_type": "stream",
     "text": [
      "this is first window:  8E2E1F9D4F45877A84F6AFBBA93DFA4D\n",
      "this is second window:  B07B255C4C12408641D4509DDCBFBE79\n",
      "Total windows: 2\n"
     ]
    }
   ],
   "source": [
    "windows = driver.window_handles  #all window page indexes in list\n",
    "print(\"this is first window: \",windows[0])\n",
    "print(\"this is second window: \",windows[1])\n",
    "print(\"Total windows:\", len(windows))"
   ]
  },
  {
   "cell_type": "code",
   "execution_count": 6,
   "id": "7a4b3ffb-e34f-40b8-a3cf-9ac4c35101e2",
   "metadata": {},
   "outputs": [
    {
     "name": "stdout",
     "output_type": "stream",
     "text": [
      "second window title: QAClick Academy - A Testing Academy to Learn, Earn and Shine\n",
      "this is a second window: B07B255C4C12408641D4509DDCBFBE79\n"
     ]
    }
   ],
   "source": [
    "driver.switch_to.window(windows[1])        #switch another(next) window\n",
    "print(\"second window title:\", driver.title)\n",
    "print(\"this is a second window:\", driver.current_window_handle)     # current window page index\n",
    "driver.close()"
   ]
  },
  {
   "cell_type": "code",
   "execution_count": 7,
   "id": "3fd65cf4-60fe-431d-9111-e3a37f239c6a",
   "metadata": {},
   "outputs": [
    {
     "name": "stdout",
     "output_type": "stream",
     "text": [
      "first window title: Practice Page\n",
      "this is a first window: 8E2E1F9D4F45877A84F6AFBBA93DFA4D\n"
     ]
    }
   ],
   "source": [
    "driver.switch_to.window(windows[0])        #switch back(previous) window\n",
    "print(\"first window title:\", driver.title)\n",
    "print(\"this is a first window:\", driver.current_window_handle)\n",
    "driver.close()"
   ]
  }
 ],
 "metadata": {
  "kernelspec": {
   "display_name": "Python 3 (ipykernel)",
   "language": "python",
   "name": "python3"
  },
  "language_info": {
   "codemirror_mode": {
    "name": "ipython",
    "version": 3
   },
   "file_extension": ".py",
   "mimetype": "text/x-python",
   "name": "python",
   "nbconvert_exporter": "python",
   "pygments_lexer": "ipython3",
   "version": "3.11.2"
  }
 },
 "nbformat": 4,
 "nbformat_minor": 5
}
