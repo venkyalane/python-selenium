{
 "cells": [
  {
   "cell_type": "code",
   "execution_count": 1,
   "id": "a972ce4e-26d2-4deb-8105-92b80d6c5a64",
   "metadata": {},
   "outputs": [],
   "source": [
    "import time\n",
    "from selenium import webdriver\n",
    "from selenium.webdriver.common.by import By"
   ]
  },
  {
   "cell_type": "code",
   "execution_count": 2,
   "id": "f2dfe27b-319a-4938-b79e-d59be435abaf",
   "metadata": {},
   "outputs": [],
   "source": [
    "driver = webdriver.Chrome()"
   ]
  },
  {
   "cell_type": "code",
   "execution_count": 3,
   "id": "bbc32408-2a3c-49ce-8cc9-aedeed95f939",
   "metadata": {},
   "outputs": [],
   "source": [
    "driver.get(\"https://www.cleartrip.com/do/search/flights\")"
   ]
  },
  {
   "cell_type": "code",
   "execution_count": 4,
   "id": "9439e912-0959-4d8f-98b2-073dfbc4b7b8",
   "metadata": {},
   "outputs": [],
   "source": [
    "driver.find_element(By.NAME, \"from\").send_keys(\"del\")\n",
    "time.sleep(2)\n",
    "from_airport = driver.find_elements(By.XPATH, \"//ul[@id='ui-id-1']/li/div\")\n",
    "for airport in from_airport:\n",
    "    if airport.text == \"New Delhi, IN - Indira Gandhi Airport (DEL)\":\n",
    "        airport.click()\n",
    "    else:\n",
    "        pass"
   ]
  },
  {
   "cell_type": "code",
   "execution_count": 5,
   "id": "f322e3fd-7702-4671-86bd-e550357df953",
   "metadata": {},
   "outputs": [],
   "source": [
    "driver.find_element(By.NAME, \"to\").send_keys(\"chi\")\n",
    "time.sleep(2)\n",
    "from_airport1=driver.find_elements(By.XPATH, \"//ul[@id='ui-id-2']/li/div\")\n",
    "for airport1 in from_airport1:\n",
    "    if airport1.text == \"Chicago, US - Midway (MDW)\":\n",
    "        airport1.click()\n",
    "    else:\n",
    "        pass"
   ]
  },
  {
   "cell_type": "code",
   "execution_count": 6,
   "id": "8b91a3e5-9fe4-4431-9051-d9ce978a7f6d",
   "metadata": {},
   "outputs": [],
   "source": [
    "driver.close()"
   ]
  },
  {
   "cell_type": "code",
   "execution_count": null,
   "id": "76724928-31e9-4c79-a8ed-f068ede1b597",
   "metadata": {},
   "outputs": [],
   "source": []
  }
 ],
 "metadata": {
  "kernelspec": {
   "display_name": "Python 3 (ipykernel)",
   "language": "python",
   "name": "python3"
  },
  "language_info": {
   "codemirror_mode": {
    "name": "ipython",
    "version": 3
   },
   "file_extension": ".py",
   "mimetype": "text/x-python",
   "name": "python",
   "nbconvert_exporter": "python",
   "pygments_lexer": "ipython3",
   "version": "3.11.2"
  }
 },
 "nbformat": 4,
 "nbformat_minor": 5
}
