{
 "cells": [
  {
   "cell_type": "code",
   "execution_count": 1,
   "id": "c04c752d-784e-4746-a453-323b65f48283",
   "metadata": {},
   "outputs": [],
   "source": [
    "import time\n",
    "from selenium import webdriver\n",
    "from selenium.webdriver.common.by import By\n",
    "from selenium.webdriver.support.select import Select"
   ]
  },
  {
   "cell_type": "code",
   "execution_count": 2,
   "id": "5010bf62-546b-4518-b1cd-9e05cb4ae2ea",
   "metadata": {},
   "outputs": [],
   "source": [
    "driver = webdriver.Chrome()"
   ]
  },
  {
   "cell_type": "code",
   "execution_count": 3,
   "id": "71150697-3cfc-419a-8560-2752c166f7f3",
   "metadata": {},
   "outputs": [],
   "source": [
    "driver.get(\"https://www.rahulshettyacademy.com/AutomationPractice/\")"
   ]
  },
  {
   "cell_type": "code",
   "execution_count": 4,
   "id": "63e2f91b-5b89-4dbe-8e35-88ab4df492ae",
   "metadata": {},
   "outputs": [],
   "source": [
    "static_dropdown = Select(driver.find_element(By.XPATH, \"//select[@id='dropdown-class-example']\"))\n",
    "time.sleep(5)\n",
    "static_dropdown.select_by_visible_text(\"Option3\")\n",
    "time.sleep(5)\n",
    "static_dropdown.select_by_index(2)\n",
    "time.sleep(5)\n",
    "static_dropdown.select_by_value(\"option1\")"
   ]
  },
  {
   "cell_type": "code",
   "execution_count": 5,
   "id": "a4feab57-32b9-42bf-924c-28ebc27eae11",
   "metadata": {},
   "outputs": [],
   "source": [
    "driver.close()"
   ]
  }
 ],
 "metadata": {
  "kernelspec": {
   "display_name": "Python 3 (ipykernel)",
   "language": "python",
   "name": "python3"
  },
  "language_info": {
   "codemirror_mode": {
    "name": "ipython",
    "version": 3
   },
   "file_extension": ".py",
   "mimetype": "text/x-python",
   "name": "python",
   "nbconvert_exporter": "python",
   "pygments_lexer": "ipython3",
   "version": "3.11.2"
  }
 },
 "nbformat": 4,
 "nbformat_minor": 5
}
